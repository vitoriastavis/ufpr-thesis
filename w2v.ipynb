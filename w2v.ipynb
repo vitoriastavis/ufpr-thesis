{
 "cells": [
  {
   "cell_type": "code",
   "execution_count": 1,
   "id": "6f924a37-67a0-4197-ac33-277a1d50d9ea",
   "metadata": {},
   "outputs": [],
   "source": [
    "import nltk\n",
    "import urllib\n",
    "import bs4 as bs\n",
    "import re\n",
    "from gensim.models import Word2Vec\n",
    "from nltk.corpus import stopwords"
   ]
  },
  {
   "cell_type": "code",
   "execution_count": null,
   "id": "5caa4fd3-74a6-4fe6-932d-039d05295147",
   "metadata": {},
   "outputs": [],
   "source": [
    "def w2v(sequence):\n",
    "    \n",
    "    model = Word2Vec(sentences, min_count=1)\n",
    "    words = model.wv.vocab\n",
    "    vector = model.wv['global']\n",
    "    "
   ]
  },
  {
   "cell_type": "code",
   "execution_count": null,
   "id": "4d77d29b-52dd-4bb3-800c-4e097972d270",
   "metadata": {},
   "outputs": [],
   "source": [
    "# Função para ler o CSV e gerar os encodings\n",
    "def process_csv(file_path, function):\n",
    "    # Lê o CSV ignorando a primeira linha\n",
    "    df = pd.read_csv(file_path)    \n",
    "    \n",
    "    # Aplica o one-hot encoding nas sequências\n",
    "    if function == 1:\n",
    "        encoded_sequences = np.array([one_hot1(seq).flatten() for seq in df['sequence']])\n",
    "    elif function == 2:\n",
    "        encoded_sequences = np.array([one_hot2(seq).flatten() for seq in df['sequence']])\n",
    "        \n",
    "    encoded_df = pd.DataFrame(encoded_sequences)\n",
    "    \n",
    "    # Adiciona a coluna de labels ao DataFrame\n",
    "    encoded_df['label'] = df['label'].values\n",
    "    \n",
    "    return encoded_sequences, encoded_df\n"
   ]
  },
  {
   "cell_type": "code",
   "execution_count": null,
   "id": "fdae5a75-5e38-4a3f-8e3d-8e3a37127c9a",
   "metadata": {},
   "outputs": [],
   "source": []
  }
 ],
 "metadata": {
  "kernelspec": {
   "display_name": "Python 3",
   "language": "python",
   "name": "python3"
  },
  "language_info": {
   "codemirror_mode": {
    "name": "ipython",
    "version": 3
   },
   "file_extension": ".py",
   "mimetype": "text/x-python",
   "name": "python",
   "nbconvert_exporter": "python",
   "pygments_lexer": "ipython3",
   "version": "3.10.9"
  }
 },
 "nbformat": 4,
 "nbformat_minor": 5
}
