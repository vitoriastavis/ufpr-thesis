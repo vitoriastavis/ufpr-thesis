{
 "cells": [
  {
   "cell_type": "code",
   "execution_count": 3,
   "id": "6f924a37-67a0-4197-ac33-277a1d50d9ea",
   "metadata": {},
   "outputs": [],
   "source": [
    "import nltk\n",
    "import urllib\n",
    "import bs4 as bs\n",
    "import re\n",
    "from gensim.models import Word2Vec\n",
    "from nltk.corpus import stopwords\n",
    "import pandas as pd\n",
    "import numpy as np\n",
    "\n"
   ]
  },
  {
   "cell_type": "code",
   "execution_count": 13,
   "id": "5caa4fd3-74a6-4fe6-932d-039d05295147",
   "metadata": {},
   "outputs": [],
   "source": [
    "def w2v(model, word):   \n",
    "\n",
    "    if word in model.wv:\n",
    "        # Return the word vector for the specified word\n",
    "        return model.wv[word]\n",
    "    else:\n",
    "        return None"
   ]
  },
  {
   "cell_type": "code",
   "execution_count": 22,
   "id": "4d77d29b-52dd-4bb3-800c-4e097972d270",
   "metadata": {},
   "outputs": [],
   "source": [
    "# Função para ler o CSV e gerar os encodings\n",
    "def process_csv(train_file, encode_file):\n",
    "    # Lê o CSV ignorando a primeira linha\n",
    "    df_train = pd.read_csv(train_file)    \n",
    "    df_encode = pd.read_csv(encode_file)\n",
    "\n",
    "    train = df_train['sequence']\n",
    "    \n",
    "    vector_size = 250\n",
    "    window = 20\n",
    "    min_count = 1\n",
    "    epochs = 150\n",
    "\n",
    "    model = Word2Vec(train, vector_size=vector_size,\n",
    "                    window=window, min_count=min_count, sg=1)\n",
    "    model.train(train, total_examples=len(train), epochs=epochs)\n",
    "    \n",
    "    # Aplica o word2vec nas sequencias \n",
    "    encoded_sequences = np.array([w2v(model, seq) for seq in df_encode['sequence']])\n",
    "            \n",
    "    labels = df_encode['label']  \n",
    "    \n",
    "    return encoded_sequences, labels\n"
   ]
  },
  {
   "cell_type": "code",
   "execution_count": 23,
   "id": "60a3ae68",
   "metadata": {},
   "outputs": [],
   "source": [
    "# Exemplo de uso\n",
    "train_file = 'train.csv'\n",
    "encode_file = 'encode.csv'\n",
    "encoded_sequences, labels = process_csv(train_file, encode_file)"
   ]
  },
  {
   "cell_type": "code",
   "execution_count": 24,
   "id": "37afcea7",
   "metadata": {},
   "outputs": [
    {
     "data": {
      "text/plain": [
       "array([None, None, None, None, None, None, None, None, None, None],\n",
       "      dtype=object)"
      ]
     },
     "execution_count": 24,
     "metadata": {},
     "output_type": "execute_result"
    }
   ],
   "source": [
    "encoded_sequences"
   ]
  },
  {
   "cell_type": "code",
   "execution_count": null,
   "id": "686654e5",
   "metadata": {},
   "outputs": [],
   "source": []
  }
 ],
 "metadata": {
  "kernelspec": {
   "display_name": "Python 3",
   "language": "python",
   "name": "python3"
  },
  "language_info": {
   "codemirror_mode": {
    "name": "ipython",
    "version": 3
   },
   "file_extension": ".py",
   "mimetype": "text/x-python",
   "name": "python",
   "nbconvert_exporter": "python",
   "pygments_lexer": "ipython3",
   "version": "3.10.9"
  }
 },
 "nbformat": 4,
 "nbformat_minor": 5
}
