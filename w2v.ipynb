{
 "cells": [
  {
   "cell_type": "code",
   "execution_count": 1,
   "id": "0964a2f4",
   "metadata": {},
   "outputs": [
    {
     "name": "stdout",
     "output_type": "stream",
     "text": [
      "Requirement already satisfied: nltk in /home/vsa/programs/anaconda3/lib/python3.10/site-packages (3.7)\n",
      "Requirement already satisfied: click in /home/vsa/programs/anaconda3/lib/python3.10/site-packages (from nltk) (8.0.4)\n",
      "Requirement already satisfied: tqdm in /home/vsa/programs/anaconda3/lib/python3.10/site-packages (from nltk) (4.64.1)\n",
      "Requirement already satisfied: joblib in /home/vsa/programs/anaconda3/lib/python3.10/site-packages (from nltk) (1.1.1)\n",
      "Requirement already satisfied: regex>=2021.8.3 in /home/vsa/programs/anaconda3/lib/python3.10/site-packages (from nltk) (2022.7.9)\n",
      "Note: you may need to restart the kernel to use updated packages.\n"
     ]
    }
   ],
   "source": [
    "pip install nltk"
   ]
  },
  {
   "cell_type": "code",
   "execution_count": 2,
   "id": "6f924a37-67a0-4197-ac33-277a1d50d9ea",
   "metadata": {},
   "outputs": [],
   "source": [
    "import nltk\n",
    "import urllib\n",
    "import bs4 as bs\n",
    "import re\n",
    "from gensim.models import Word2Vec\n",
    "from nltk.corpus import stopwords"
   ]
  },
  {
   "cell_type": "code",
   "execution_count": 3,
   "id": "5caa4fd3-74a6-4fe6-932d-039d05295147",
   "metadata": {},
   "outputs": [],
   "source": [
    "def w2v(sequence):\n",
    "    \n",
    "    model = Word2Vec(sentences, min_count=1)\n",
    "    words = model.wv.vocab\n",
    "    vector = model.wv['global']    "
   ]
  },
  {
   "cell_type": "code",
   "execution_count": null,
   "id": "4d77d29b-52dd-4bb3-800c-4e097972d270",
   "metadata": {},
   "outputs": [],
   "source": [
    "# Função para ler o CSV e gerar os encodings\n",
    "def process_csv(file_path):\n",
    "    # Lê o CSV ignorando a primeira linha\n",
    "    df = pd.read_csv(file_path)    \n",
    "    \n",
    "    # Aplica o word2vec nas sequencias \n",
    "    encoded_sequences = np.array([one_hot1(seq).flatten() for seq in df['sequence']])\n",
    "        \n",
    "    encoded_df = pd.DataFrame(encoded_sequences)\n",
    "    \n",
    "    # Adiciona a coluna de labels ao DataFrame\n",
    "    encoded_df['label'] = df['label'].values\n",
    "    \n",
    "    return encoded_sequences, encoded_df\n"
   ]
  },
  {
   "cell_type": "code",
   "execution_count": 4,
   "id": "8e9daf68",
   "metadata": {},
   "outputs": [],
   "source": [
    "file_path = '/home/vsa/ufpr/tcc/scripts/teste.csv'"
   ]
  },
  {
   "cell_type": "code",
   "execution_count": null,
   "id": "fdae5a75-5e38-4a3f-8e3d-8e3a37127c9a",
   "metadata": {},
   "outputs": [],
   "source": [
    "process_csv(file_path)"
   ]
  }
 ],
 "metadata": {
  "kernelspec": {
   "display_name": "Python 3",
   "language": "python",
   "name": "python3"
  },
  "language_info": {
   "codemirror_mode": {
    "name": "ipython",
    "version": 3
   },
   "file_extension": ".py",
   "mimetype": "text/x-python",
   "name": "python",
   "nbconvert_exporter": "python",
   "pygments_lexer": "ipython3",
   "version": "3.10.9"
  }
 },
 "nbformat": 4,
 "nbformat_minor": 5
}
