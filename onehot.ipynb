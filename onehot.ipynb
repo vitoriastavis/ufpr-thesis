{
 "cells": [
  {
   "cell_type": "code",
   "execution_count": 1,
   "id": "f1ba6a08-73ad-4d37-a838-ee1a53a50409",
   "metadata": {},
   "outputs": [],
   "source": [
    "import pandas as pd\n",
    "import numpy as np\n",
    "from sklearn.preprocessing import LabelEncoder\n",
    "from sklearn.preprocessing import OneHotEncoder\n"
   ]
  },
  {
   "cell_type": "code",
   "execution_count": 2,
   "id": "3a18eda3-c688-4f57-bb8f-232f2d3bc5d0",
   "metadata": {},
   "outputs": [],
   "source": [
    "# Função para realizar one-hot encoding de uma sequência de DNA\n",
    "def one_hot1(sequence):\n",
    "    mapping = {'A': [1, 0, 0, 0],\n",
    "               'C': [0, 1, 0, 0],\n",
    "               'G': [0, 0, 1, 0],\n",
    "               'T': [0, 0, 0, 1]}\n",
    "    \n",
    "    # Transforma cada base da sequência no vetor correspondente\n",
    "    return np.array([mapping[base] for base in sequence])"
   ]
  },
  {
   "cell_type": "code",
   "execution_count": 3,
   "id": "8c73bde5-d9b9-407b-8f85-cdabe563140f",
   "metadata": {},
   "outputs": [],
   "source": [
    "def one_hot2(sequence):\n",
    "    seq_array = np.array(list(sequence))\n",
    "    \n",
    "    le = LabelEncoder()\n",
    "    oe = OneHotEncoder(sparse_output=False)\n",
    "    integer_e = le.fit_transform(seq_array)\n",
    "    integer_e = integer_e.reshape(len(integer_e),1)\n",
    "    onehot_e = oe.fit_transform(integer_e)\n",
    "    \n",
    "    return onehot_e"
   ]
  },
  {
   "cell_type": "code",
   "execution_count": 4,
   "id": "20856974-b5bf-46eb-ba32-7b2e0c48f6c1",
   "metadata": {},
   "outputs": [],
   "source": [
    "# Função para ler o CSV e gerar os encodings\n",
    "def process_csv(file_path, function):\n",
    "    # Lê o CSV ignorando a primeira linha\n",
    "    df = pd.read_csv(file_path)    \n",
    "    \n",
    "    # Aplica o one-hot encoding nas sequências\n",
    "    if function == 1:\n",
    "        encoded_sequences = np.array([one_hot1(seq) for seq in df['sequence']])\n",
    "    elif function == 2:\n",
    "        encoded_sequences = np.array([one_hot2(seq) for seq in df['sequence']])\n",
    "        \n",
    "    # encoded_df = pd.DataFrame(encoded_sequences)\n",
    "    labels = df['label']\n",
    "    # Adiciona a coluna de labels ao DataFrame\n",
    "    # encoded_df['label'] = labels\n",
    "    \n",
    "    return encoded_sequences, labels\n"
   ]
  },
  {
   "cell_type": "code",
   "execution_count": 12,
   "id": "79d5d1f0-282a-493f-bfaa-0bc137d07b93",
   "metadata": {},
   "outputs": [],
   "source": [
    "# Exemplo de uso\n",
    "csv_file = 'train.csv'\n",
    "encoded_sequences, labels = process_csv(csv_file, 1)"
   ]
  },
  {
   "cell_type": "code",
   "execution_count": 13,
   "id": "13ea4f4d",
   "metadata": {},
   "outputs": [
    {
     "data": {
      "text/plain": [
       "numpy.int64"
      ]
     },
     "execution_count": 13,
     "metadata": {},
     "output_type": "execute_result"
    }
   ],
   "source": [
    "type(encoded_sequences[1][1][1])"
   ]
  },
  {
   "cell_type": "code",
   "execution_count": 7,
   "id": "87c4f82a",
   "metadata": {},
   "outputs": [
    {
     "name": "stdout",
     "output_type": "stream",
     "text": [
      "[[[0 1 0 0]\n",
      "  [0 0 0 1]\n",
      "  [0 0 1 0]\n",
      "  ...\n",
      "  [0 1 0 0]\n",
      "  [1 0 0 0]\n",
      "  [1 0 0 0]]\n",
      "\n",
      " [[0 1 0 0]\n",
      "  [1 0 0 0]\n",
      "  [0 0 0 1]\n",
      "  ...\n",
      "  [0 1 0 0]\n",
      "  [0 0 0 1]\n",
      "  [0 0 1 0]]\n",
      "\n",
      " [[0 0 0 1]\n",
      "  [0 0 0 1]\n",
      "  [0 0 1 0]\n",
      "  ...\n",
      "  [0 0 1 0]\n",
      "  [0 1 0 0]\n",
      "  [0 0 1 0]]\n",
      "\n",
      " ...\n",
      "\n",
      " [[0 0 1 0]\n",
      "  [0 0 1 0]\n",
      "  [0 1 0 0]\n",
      "  ...\n",
      "  [0 0 0 1]\n",
      "  [0 1 0 0]\n",
      "  [0 1 0 0]]\n",
      "\n",
      " [[0 0 1 0]\n",
      "  [0 0 0 1]\n",
      "  [0 0 0 1]\n",
      "  ...\n",
      "  [0 1 0 0]\n",
      "  [1 0 0 0]\n",
      "  [0 1 0 0]]\n",
      "\n",
      " [[0 0 0 1]\n",
      "  [0 0 1 0]\n",
      "  [0 0 1 0]\n",
      "  ...\n",
      "  [0 0 1 0]\n",
      "  [0 0 1 0]\n",
      "  [1 0 0 0]]]\n"
     ]
    }
   ],
   "source": [
    "print(encoded_sequences)"
   ]
  }
 ],
 "metadata": {
  "kernelspec": {
   "display_name": "Python 3",
   "language": "python",
   "name": "python3"
  },
  "language_info": {
   "codemirror_mode": {
    "name": "ipython",
    "version": 3
   },
   "file_extension": ".py",
   "mimetype": "text/x-python",
   "name": "python",
   "nbconvert_exporter": "python",
   "pygments_lexer": "ipython3",
   "version": "3.10.9"
  }
 },
 "nbformat": 4,
 "nbformat_minor": 5
}
