{
 "cells": [
  {
   "cell_type": "code",
   "execution_count": 14,
   "metadata": {},
   "outputs": [
    {
     "name": "stdout",
     "output_type": "stream",
     "text": [
      "Data saved to deepbind.csv\n"
     ]
    }
   ],
   "source": [
    "import os\n",
    "import pandas as pd\n",
    "\n",
    "# Directory containing the .seq files\n",
    "input_directory = \"/mnt/NAS/stavisa/encode/\"\n",
    "output_file = \"deepbind.csv\"\n",
    "\n",
    "# Initialize an empty DataFrame to store the data\n",
    "final_df = pd.DataFrame(columns=[\"sequence\", \"label\"])\n",
    "\n",
    "# Iterate through all .seq files in the directory\n",
    "for file_name in os.listdir(input_directory):\n",
    "    if file_name.endswith(\".seq\"):\n",
    "        file_path = os.path.join(input_directory, file_name)\n",
    "        \n",
    "        # Read the .seq file as a TSV\n",
    "        df = pd.read_csv(file_path, sep=\"\\t\")\n",
    "        \n",
    "        # Select the last two columns\n",
    "        last_two_columns = df.iloc[:, -2:]\n",
    "        \n",
    "        # Rename the columns to \"sequence\" and \"label\"\n",
    "        last_two_columns.columns = [\"sequence\", \"label\"]\n",
    "        \n",
    "        # Append to the final DataFrame\n",
    "        final_df = pd.concat([final_df, last_two_columns], ignore_index=True)\n",
    "\n",
    "# Save the final DataFrame to a CSV file\n",
    "final_df.to_csv(output_file, index=False)\n",
    "print(f\"Data saved to {output_file}\")\n"
   ]
  },
  {
   "cell_type": "code",
   "execution_count": 15,
   "metadata": {},
   "outputs": [
    {
     "data": {
      "text/plain": [
       "label\n",
       "1    136607\n",
       "0      5000\n",
       "Name: count, dtype: int64"
      ]
     },
     "execution_count": 15,
     "metadata": {},
     "output_type": "execute_result"
    }
   ],
   "source": [
    "final_df['label'].value_counts()"
   ]
  },
  {
   "cell_type": "code",
   "execution_count": 19,
   "metadata": {},
   "outputs": [
    {
     "data": {
      "text/plain": [
       "101.0"
      ]
     },
     "execution_count": 19,
     "metadata": {},
     "output_type": "execute_result"
    }
   ],
   "source": [
    "updated_df2['sequence'].str.len().mean()"
   ]
  },
  {
   "cell_type": "code",
   "execution_count": 11,
   "metadata": {},
   "outputs": [],
   "source": [
    "# File paths\n",
    "output_file = \"outputplus.csv\"\n",
    "train_file = \"/mnt/NAS/stavisa/dataset/test.csv\"\n",
    "\n",
    "# Load the files\n",
    "output_df = updated_df\n",
    "train_df = pd.read_csv(train_file)\n",
    "\n",
    "# Filter sequences from train.csv where the label is 0\n",
    "class_0_sequences = train_df[train_df['label'] == 0]\n",
    "\n",
    "# Find sequences in class_0_sequences that are not already in output.csv\n",
    "new_sequences = class_0_sequences[~class_0_sequences['sequence'].isin(output_df['sequence'])]\n",
    "\n",
    "# Append these new sequences to output_df\n",
    "updated_df2 = pd.concat([output_df, new_sequences], ignore_index=True)\n",
    "\n",
    "# Save the updated DataFrame back to output.csv\n",
    "updated_df2.to_csv(output_file, index=False)"
   ]
  },
  {
   "cell_type": "code",
   "execution_count": null,
   "metadata": {},
   "outputs": [],
   "source": []
  },
  {
   "cell_type": "code",
   "execution_count": 20,
   "metadata": {},
   "outputs": [],
   "source": [
    "# Separate the data by class\n",
    "class_0 = updated_df2[updated_df2['label'] == 0]\n",
    "class_1 = updated_df2[updated_df2['label'] == 1]\n",
    "\n",
    "# Perform undersampling on class 1 to match the size of class 0\n",
    "class_1_undersampled = class_1.sample(n=len(class_0), random_state=42)\n",
    "\n",
    "# Combine the balanced classes\n",
    "balanced_df = pd.concat([class_0, class_1_undersampled], ignore_index=True)\n",
    "\n",
    "# Shuffle the dataset to mix the classes\n",
    "balanced_df = balanced_df.sample(frac=1, random_state=42).reset_index(drop=True)\n",
    "\n",
    "# # Save the balanced dataset\n",
    "# balanced_df.to_csv(\"balanced.csv\", index=False)"
   ]
  },
  {
   "cell_type": "code",
   "execution_count": 22,
   "metadata": {},
   "outputs": [],
   "source": [
    "balanced_df.to_csv(\"balanced.csv\", index=False)"
   ]
  },
  {
   "cell_type": "code",
   "execution_count": 21,
   "metadata": {},
   "outputs": [
    {
     "data": {
      "text/plain": [
       "label\n",
       "0    71687\n",
       "1    71687\n",
       "Name: count, dtype: int64"
      ]
     },
     "execution_count": 21,
     "metadata": {},
     "output_type": "execute_result"
    }
   ],
   "source": [
    "balanced_df['label'].value_counts()"
   ]
  },
  {
   "cell_type": "code",
   "execution_count": 16,
   "metadata": {},
   "outputs": [
    {
     "data": {
      "text/plain": [
       "label\n",
       "1    136607\n",
       "0     71687\n",
       "Name: count, dtype: int64"
      ]
     },
     "execution_count": 16,
     "metadata": {},
     "output_type": "execute_result"
    }
   ],
   "source": [
    "updated_df2['label'].value_counts()"
   ]
  },
  {
   "cell_type": "code",
   "execution_count": 7,
   "metadata": {},
   "outputs": [],
   "source": [
    "# File paths\n",
    "import os\n",
    "import pandas as pd\n",
    "\n",
    "output_file = \"balanced.csv\"\n",
    "\n",
    "# Load the files\n",
    "train_df = pd.read_csv(output_file)"
   ]
  },
  {
   "cell_type": "code",
   "execution_count": 9,
   "metadata": {},
   "outputs": [
    {
     "data": {
      "text/plain": [
       "143374"
      ]
     },
     "execution_count": 9,
     "metadata": {},
     "output_type": "execute_result"
    }
   ],
   "source": [
    "len(train_df)"
   ]
  },
  {
   "cell_type": "code",
   "execution_count": 8,
   "metadata": {},
   "outputs": [
    {
     "data": {
      "text/plain": [
       "label\n",
       "0    71687\n",
       "1    71687\n",
       "Name: count, dtype: int64"
      ]
     },
     "execution_count": 8,
     "metadata": {},
     "output_type": "execute_result"
    }
   ],
   "source": [
    "train_df['label'].value_counts()"
   ]
  }
 ],
 "metadata": {
  "kernelspec": {
   "display_name": "Python 3",
   "language": "python",
   "name": "python3"
  },
  "language_info": {
   "codemirror_mode": {
    "name": "ipython",
    "version": 3
   },
   "file_extension": ".py",
   "mimetype": "text/x-python",
   "name": "python",
   "nbconvert_exporter": "python",
   "pygments_lexer": "ipython3",
   "version": "3.8.0"
  }
 },
 "nbformat": 4,
 "nbformat_minor": 2
}
