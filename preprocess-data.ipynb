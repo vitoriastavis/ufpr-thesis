{
 "cells": [
  {
   "cell_type": "code",
   "execution_count": 1,
   "metadata": {},
   "outputs": [
    {
     "name": "stdout",
     "output_type": "stream",
     "text": [
      "Data saved to deepbind.csv\n"
     ]
    }
   ],
   "source": [
    "import os\n",
    "import pandas as pd\n",
    "\n",
    "# Directory containing the .seq files\n",
    "input_directory = \"/mnt/NAS/stavisa/encode/\"\n",
    "output_file = \"deepbind.csv\"\n",
    "\n",
    "# Initialize an empty DataFrame to store the data\n",
    "final_df = pd.DataFrame(columns=[\"sequence\", \"label\"])\n",
    "\n",
    "# Iterate through all .seq files in the directory\n",
    "for file_name in os.listdir(input_directory):\n",
    "    if file_name.endswith(\".seq\"):\n",
    "        file_path = os.path.join(input_directory, file_name)\n",
    "        \n",
    "        # Read the .seq file as a TSV\n",
    "        df = pd.read_csv(file_path, sep=\"\\t\")\n",
    "        \n",
    "        # Select the last two columns\n",
    "        last_two_columns = df.iloc[:, -2:]\n",
    "        \n",
    "        # Rename the columns to \"sequence\" and \"label\"\n",
    "        last_two_columns.columns = [\"sequence\", \"label\"]\n",
    "        \n",
    "        # Append to the final DataFrame\n",
    "        final_df = pd.concat([final_df, last_two_columns], ignore_index=True)\n",
    "\n",
    "# Save the final DataFrame to a CSV file\n",
    "final_df.to_csv(output_file, index=False)\n",
    "print(f\"Data saved to {output_file}\")"
   ]
  },
  {
   "cell_type": "code",
   "execution_count": 20,
   "metadata": {},
   "outputs": [],
   "source": [
    "original_file = \"/mnt/NAS/stavisa/dataset/deepbind.csv\"\n",
    "original_df = pd.read_csv(original_file)\n",
    "\n",
    "# Separate the data by class\n",
    "class_0 = original_df[original_df['label'] == 0]\n",
    "class_1 = original_df[original_df['label'] == 1]\n",
    "\n",
    "# Perform undersampling on class 1 to match the size of class 0\n",
    "class_1_undersampled = class_1.sample(n=len(class_0), random_state=42)\n",
    "\n",
    "# Combine the balanced classes\n",
    "balanced_df = pd.concat([class_0, class_1_undersampled], ignore_index=True)\n",
    "\n",
    "# Shuffle the dataset to mix the classes\n",
    "balanced_df = balanced_df.sample(frac=1, random_state=42).reset_index(drop=True)\n",
    "\n",
    "# Save the balanced dataset\n",
    "balanced_df.to_csv(\"/mnt/NAS/stavisa/encode/balanced.csv\", index=False)"
   ]
  },
  {
   "cell_type": "code",
   "execution_count": 21,
   "metadata": {},
   "outputs": [
    {
     "data": {
      "text/plain": [
       "label\n",
       "0    71687\n",
       "1    71687\n",
       "Name: count, dtype: int64"
      ]
     },
     "execution_count": 21,
     "metadata": {},
     "output_type": "execute_result"
    }
   ],
   "source": [
    "balanced_df['label'].value_counts()"
   ]
  }
 ],
 "metadata": {
  "kernelspec": {
   "display_name": "Python 3",
   "language": "python",
   "name": "python3"
  },
  "language_info": {
   "codemirror_mode": {
    "name": "ipython",
    "version": 3
   },
   "file_extension": ".py",
   "mimetype": "text/x-python",
   "name": "python",
   "nbconvert_exporter": "python",
   "pygments_lexer": "ipython3",
   "version": "3.10.0"
  }
 },
 "nbformat": 4,
 "nbformat_minor": 2
}
