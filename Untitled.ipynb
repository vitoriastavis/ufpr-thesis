{
 "cells": [
  {
   "cell_type": "code",
   "execution_count": 1,
   "id": "591a6af8-ae86-4ff1-b023-0e8a43ee0487",
   "metadata": {},
   "outputs": [],
   "source": [
    "def clean(in_file, out_file):\n",
    "    with open(in_file, 'r') as fi, open(out_file, 'w') as fo:\n",
    "        for line in fi:\n",
    "            if line.strip():\n",
    "                fo.write(line)"
   ]
  },
  {
   "cell_type": "code",
   "execution_count": 2,
   "id": "0facf1b3-62f5-4e4f-9539-0f007524c110",
   "metadata": {},
   "outputs": [],
   "source": [
    "clean(\"mirnas/teste.fasta\", \"mirnas/hsa_mirna.fasta\")"
   ]
  },
  {
   "cell_type": "code",
   "execution_count": null,
   "id": "15b5dedc-6b41-40a0-95d7-38b5ccb74825",
   "metadata": {},
   "outputs": [],
   "source": []
  }
 ],
 "metadata": {
  "kernelspec": {
   "display_name": "Python 3",
   "language": "python",
   "name": "python3"
  },
  "language_info": {
   "codemirror_mode": {
    "name": "ipython",
    "version": 3
   },
   "file_extension": ".py",
   "mimetype": "text/x-python",
   "name": "python",
   "nbconvert_exporter": "python",
   "pygments_lexer": "ipython3",
   "version": "3.10.9"
  }
 },
 "nbformat": 4,
 "nbformat_minor": 5
}
