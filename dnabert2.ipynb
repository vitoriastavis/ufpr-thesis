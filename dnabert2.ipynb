{
 "cells": [
  {
   "cell_type": "code",
   "execution_count": 10,
   "metadata": {},
   "outputs": [],
   "source": [
    "import torch\n",
    "from transformers import AutoTokenizer, AutoModel\n",
    "import numpy as np\n",
    "import pandas as pd\n",
    "from transformers.models.bert.configuration_bert import BertConfig\n"
   ]
  },
  {
   "cell_type": "code",
   "execution_count": 26,
   "metadata": {},
   "outputs": [],
   "source": [
    "def dnabert2(sequence, tokenizer, model, pooling):\n",
    "\n",
    "  # with torch.no_grad(): \n",
    "  inputs = tokenizer(sequence, return_tensors = 'pt')[\"input_ids\"]\n",
    "  hidden_states = model(inputs)[0] # [1, sequence_length, 768]\n",
    "\n",
    "  # embedding with mean pooling\n",
    "  if pooling == 'mean':\n",
    "    embedding = torch.mean(hidden_states[0], dim=0)\n",
    "\n",
    "  # embedding with max pooling\n",
    "  else:\n",
    "    embedding = torch.max(hidden_states[0], dim=0)[0]\n",
    "\n",
    "  return embedding.detach().numpy()\n"
   ]
  },
  {
   "cell_type": "code",
   "execution_count": 34,
   "metadata": {},
   "outputs": [],
   "source": [
    "# Função para ler o CSV e gerar os encodings\n",
    "def process_csv(train_file, param):\n",
    "  # Lê o CSV ignorando a primeira linha\n",
    "  df = pd.read_csv(train_file)    \n",
    "\n",
    "  # Fetch pooling marameter\n",
    "  pooling = param[0]\n",
    "    \n",
    "  tokenizer = AutoTokenizer.from_pretrained(\"zhihan1996/DNABERT-2-117M\", trust_remote_code=True)\n",
    "  #model = AutoModel.from_pretrained(\"zhihan1996/DNABERT-2-117M\", trust_remote_code=True)\n",
    "  \n",
    "  config = BertConfig.from_pretrained(\"zhihan1996/DNABERT-2-117M\")\n",
    "  model = AutoModel.from_pretrained(\"zhihan1996/DNABERT-2-117M\", trust_remote_code=True, config=config)\n",
    "\n",
    "  # Aplica o encoding do dnabert2 nas sequencias \n",
    "  encoded_sequences = [dnabert2(seq, tokenizer, model, pooling) for seq in df['sequence']]\n",
    "       \n",
    "  labels = df['label']  \n",
    "  \n",
    "  return encoded_sequences, labels\n"
   ]
  },
  {
   "cell_type": "code",
   "execution_count": 35,
   "metadata": {},
   "outputs": [
    {
     "name": "stderr",
     "output_type": "stream",
     "text": [
      "/home/stavisa/.cache/huggingface/modules/transformers_modules/zhihan1996/DNABERT-2-117M/d064dece8a8b41d9fb8729fbe3435278786931f1/bert_layers.py:126: UserWarning: Unable to import Triton; defaulting MosaicBERT attention implementation to pytorch (this will reduce throughput when using this model).\n",
      "  warnings.warn(\n",
      "Some weights of BertModel were not initialized from the model checkpoint at zhihan1996/DNABERT-2-117M and are newly initialized: ['bert.pooler.dense.bias', 'bert.pooler.dense.weight']\n",
      "You should probably TRAIN this model on a down-stream task to be able to use it for predictions and inference.\n"
     ]
    }
   ],
   "source": [
    "csv_file = 'encode.csv'\n",
    "encoded_sequences, labels = process_csv(csv_file, ['mean'])"
   ]
  },
  {
   "cell_type": "code",
   "execution_count": 36,
   "metadata": {},
   "outputs": [
    {
     "name": "stderr",
     "output_type": "stream",
     "text": [
      "/home/stavisa/.cache/huggingface/modules/transformers_modules/zhihan1996/DNABERT-2-117M/d064dece8a8b41d9fb8729fbe3435278786931f1/bert_layers.py:126: UserWarning: Unable to import Triton; defaulting MosaicBERT attention implementation to pytorch (this will reduce throughput when using this model).\n",
      "  warnings.warn(\n",
      "Some weights of BertModel were not initialized from the model checkpoint at zhihan1996/DNABERT-2-117M and are newly initialized: ['bert.pooler.dense.bias', 'bert.pooler.dense.weight']\n",
      "You should probably TRAIN this model on a down-stream task to be able to use it for predictions and inference.\n"
     ]
    }
   ],
   "source": [
    "encoded_sequences2, labels = process_csv(csv_file, ['max'])"
   ]
  }
 ],
 "metadata": {
  "kernelspec": {
   "display_name": "Python 3",
   "language": "python",
   "name": "python3"
  }
 },
 "nbformat": 4,
 "nbformat_minor": 2
}
