{
 "cells": [
  {
   "cell_type": "code",
   "execution_count": 1,
   "metadata": {},
   "outputs": [
    {
     "name": "stdout",
     "output_type": "stream",
     "text": [
      "['/home/stavisa/ufpr-thesis', '/home/stavisa/programs/anaconda3/lib/python310.zip', '/home/stavisa/programs/anaconda3/lib/python3.10', '/home/stavisa/programs/anaconda3/lib/python3.10/lib-dynload', '', '/home/stavisa/programs/anaconda3/lib/python3.10/site-packages', '/home/stavisa/programs/anaconda3/lib/python3.10/site-packages/PyQt5_sip-12.11.0-py3.10-linux-x86_64.egg', '/home/stavisa/programs/anaconda3/lib/python3.10/site-packages/pybind11-2.13.5-py3.10.egg', '/home/stavisa/programs/anaconda3/lib/python3.10/site-packages/mpmath-1.2.1-py3.10.egg']\n"
     ]
    }
   ],
   "source": [
    "import sys\n",
    "print(sys.path)\n"
   ]
  },
  {
   "cell_type": "code",
   "execution_count": 2,
   "metadata": {},
   "outputs": [],
   "source": [
    "import torch\n",
    "import torch.nn as nn\n",
    "import numpy as np\n",
    "import sklearn.metrics\n",
    "import torch.optim as optim\n",
    "import dataset\n",
    "import onehot\n",
    "import w2v"
   ]
  },
  {
   "cell_type": "code",
   "execution_count": null,
   "metadata": {},
   "outputs": [],
   "source": [
    "# Define the classifier (same as in BertForSequenceClassification)\n",
    "class W2VClassifier(nn.Module):\n",
    "    def __init__(self, hidden_size, num_labels, dropout_prob):\n",
    "        super(W2VClassifier, self).__init__()\n",
    "        self.dropout = nn.Dropout(dropout_prob)\n",
    "        self.classifier = nn.Linear(hidden_size, num_labels)\n",
    "\n",
    "    def forward(self, embeddings):\n",
    "        # Apply dropout\n",
    "        output = self.dropout(embeddings)\n",
    "        # Apply classifier (linear layer)\n",
    "        logits = self.classifier(output)\n",
    "        return logits\n"
   ]
  },
  {
   "cell_type": "code",
   "execution_count": null,
   "metadata": {},
   "outputs": [],
   "source": [
    "w2v_embeddings = torch.tensor(w2v_embedding)  # Ensure this matches the hidden_size\n",
    "labels = torch.tensor([1, 0]) "
   ]
  },
  {
   "cell_type": "code",
   "execution_count": null,
   "metadata": {},
   "outputs": [],
   "source": [
    "# Define the function (as provided)\n",
    "def calculate_metric_with_sklearn(predictions: np.ndarray, labels: np.ndarray):\n",
    "    valid_predictions = predictions\n",
    "    valid_labels = labels\n",
    "    return {\n",
    "        \"accuracy\": sklearn.metrics.accuracy_score(valid_labels, valid_predictions),\n",
    "        \"f1\": sklearn.metrics.f1_score(\n",
    "            valid_labels, valid_predictions, average=\"macro\", zero_division=0\n",
    "        ),\n",
    "        \"matthews_correlation\": sklearn.metrics.matthews_corrcoef(\n",
    "            valid_labels, valid_predictions\n",
    "        ),\n",
    "        \"precision\": sklearn.metrics.precision_score(\n",
    "            valid_labels, valid_predictions, average=\"macro\", zero_division=0\n",
    "        ),\n",
    "        \"recall\": sklearn.metrics.recall_score(\n",
    "            valid_labels, valid_predictions, average=\"macro\", zero_division=0\n",
    "        ),\n",
    "    }\n"
   ]
  },
  {
   "cell_type": "code",
   "execution_count": null,
   "metadata": {},
   "outputs": [],
   "source": [
    "# Hyperparameters\n",
    "learning_rate = 0.001\n",
    "num_epochs = 10\n",
    "batch_size = 32\n",
    "\n",
    "# Parameters\n",
    "hidden_size = 768  # Adjust this based on your W2V embedding size (must match BERT's hidden size)\n",
    "num_labels = 2     # Number of classes (e.g., for binary classification)\n",
    "dropout_prob = 0.1  # Same dropout as in the original BERT classifier\n",
    "\n",
    "\n",
    "# Initialize the model, optimizer, and loss function\n",
    "model = W2VClassifier(hidden_size, num_labels, dropout_prob)\n",
    "optimizer = optim.Adam(model.parameters(), lr=learning_rate)\n",
    "loss_function = nn.CrossEntropyLoss()"
   ]
  },
  {
   "cell_type": "code",
   "execution_count": 18,
   "metadata": {},
   "outputs": [
    {
     "ename": "NameError",
     "evalue": "name 'one_hot1' is not defined",
     "output_type": "error",
     "traceback": [
      "\u001b[0;31m---------------------------------------------------------------------------\u001b[0m",
      "\u001b[0;31mNameError\u001b[0m                                 Traceback (most recent call last)",
      "Cell \u001b[0;32mIn[18], line 2\u001b[0m\n\u001b[1;32m      1\u001b[0m input_path \u001b[38;5;241m=\u001b[39m \u001b[38;5;124m'\u001b[39m\u001b[38;5;124mtrain.csv\u001b[39m\u001b[38;5;124m'\u001b[39m\n\u001b[0;32m----> 2\u001b[0m data, labels \u001b[38;5;241m=\u001b[39m \u001b[43monehot\u001b[49m\u001b[38;5;241;43m.\u001b[39;49m\u001b[43mprocess_csv\u001b[49m\u001b[43m(\u001b[49m\u001b[43minput_path\u001b[49m\u001b[43m)\u001b[49m\n",
      "File \u001b[0;32m~/ufpr-thesis/onehot.py:22\u001b[0m, in \u001b[0;36mprocess_csv\u001b[0;34m(file_path)\u001b[0m\n\u001b[1;32m     19\u001b[0m df \u001b[38;5;241m=\u001b[39m pd\u001b[38;5;241m.\u001b[39mread_csv(file_path)    \n\u001b[1;32m     21\u001b[0m \u001b[38;5;66;03m# Aplica o one-hot encoding nas sequências\u001b[39;00m\n\u001b[0;32m---> 22\u001b[0m encoded_sequences \u001b[38;5;241m=\u001b[39m np\u001b[38;5;241m.\u001b[39marray([one_hot1(seq) \u001b[38;5;28;01mfor\u001b[39;00m seq \u001b[38;5;129;01min\u001b[39;00m df[\u001b[38;5;124m'\u001b[39m\u001b[38;5;124msequence\u001b[39m\u001b[38;5;124m'\u001b[39m]])\n\u001b[1;32m     24\u001b[0m \u001b[38;5;66;03m# encoded_df = pd.DataFrame(encoded_sequences)\u001b[39;00m\n\u001b[1;32m     25\u001b[0m labels \u001b[38;5;241m=\u001b[39m df[\u001b[38;5;124m'\u001b[39m\u001b[38;5;124mlabel\u001b[39m\u001b[38;5;124m'\u001b[39m]\n",
      "File \u001b[0;32m~/ufpr-thesis/onehot.py:22\u001b[0m, in \u001b[0;36m<listcomp>\u001b[0;34m(.0)\u001b[0m\n\u001b[1;32m     19\u001b[0m df \u001b[38;5;241m=\u001b[39m pd\u001b[38;5;241m.\u001b[39mread_csv(file_path)    \n\u001b[1;32m     21\u001b[0m \u001b[38;5;66;03m# Aplica o one-hot encoding nas sequências\u001b[39;00m\n\u001b[0;32m---> 22\u001b[0m encoded_sequences \u001b[38;5;241m=\u001b[39m np\u001b[38;5;241m.\u001b[39marray([\u001b[43mone_hot1\u001b[49m(seq) \u001b[38;5;28;01mfor\u001b[39;00m seq \u001b[38;5;129;01min\u001b[39;00m df[\u001b[38;5;124m'\u001b[39m\u001b[38;5;124msequence\u001b[39m\u001b[38;5;124m'\u001b[39m]])\n\u001b[1;32m     24\u001b[0m \u001b[38;5;66;03m# encoded_df = pd.DataFrame(encoded_sequences)\u001b[39;00m\n\u001b[1;32m     25\u001b[0m labels \u001b[38;5;241m=\u001b[39m df[\u001b[38;5;124m'\u001b[39m\u001b[38;5;124mlabel\u001b[39m\u001b[38;5;124m'\u001b[39m]\n",
      "\u001b[0;31mNameError\u001b[0m: name 'one_hot1' is not defined"
     ]
    }
   ],
   "source": [
    "input_path = 'train.csv'\n",
    "data, labels = onehot.process_csv(input_path)"
   ]
  },
  {
   "cell_type": "code",
   "execution_count": null,
   "metadata": {},
   "outputs": [],
   "source": [
    "train_dataset = MyDataset(data, labels)\n",
    "\n",
    "# Create a DataLoader\n",
    "dataloader = DataLoader(train_dataset, batch_size=8, shuffle=True, num_workers=4)"
   ]
  },
  {
   "cell_type": "code",
   "execution_count": null,
   "metadata": {},
   "outputs": [],
   "source": [
    "\n",
    "model.train()  # Set the model to training mode\n",
    "# Training loop\n",
    "for epoch in range(num_epochs):\n",
    "\n",
    "    total_loss = 0\n",
    "    \n",
    "    # Iterate through batches (assumed you have a function for batching)\n",
    "    for batch in train_data_loader:  # Replace with your DataLoader\n",
    "        inputs, labels = batch  # Get inputs and labels\n",
    "\n",
    "        # Zero the gradients\n",
    "        optimizer.zero_grad()\n",
    "\n",
    "        # Forward pass\n",
    "        logits = model(inputs)\n",
    "\n",
    "        # Compute loss\n",
    "        loss = loss_function(logits, labels)\n",
    "\n",
    "        # Backward pass\n",
    "        loss.backward()\n",
    "        optimizer.step()\n",
    "\n",
    "        total_loss += loss.item()\n",
    "\n",
    "    print(f\"Epoch [{epoch + 1}/{num_epochs}], Loss: {total_loss / len(train_data_loader):.4f}\")\n",
    "\n",
    "# After training, you can evaluate the model on the validation set\n"
   ]
  },
  {
   "cell_type": "code",
   "execution_count": null,
   "metadata": {},
   "outputs": [],
   "source": [
    "all_predictions = []\n",
    "all_labels = []\n",
    "\n",
    "model.eval()  # Set the model to evaluation mode\n",
    "for epoch in range(num_epochs):\n",
    "\n",
    "  for inputs, labels in validation_data_loader: \n",
    "\n",
    "    # Get the logits from the classifier\n",
    "    logits = model(inputs)\n",
    "\n",
    "    # Predicted classes (index of the max logits)\n",
    "    predicted_classes = torch.argmax(logits, dim=-1)\n",
    "\n",
    "    all_predictions.extend(predicted_classes.numpy())\n",
    "    all_labels.extend(labels.numpy())\n",
    "\n",
    "\n",
    "all_predictions = np.array(all_predictions)\n",
    "all_labels = np.array(all_labels)\n",
    "\n",
    "# Call the function to calculate metrics\n",
    "metrics = calculate_metric_with_sklearn(all_predictions, all_labels)\n",
    "\n",
    "# Output the calculated metrics\n",
    "print(metrics)"
   ]
  }
 ],
 "metadata": {
  "kernelspec": {
   "display_name": "base",
   "language": "python",
   "name": "python3"
  },
  "language_info": {
   "codemirror_mode": {
    "name": "ipython",
    "version": 3
   },
   "file_extension": ".py",
   "mimetype": "text/x-python",
   "name": "python",
   "nbconvert_exporter": "python",
   "pygments_lexer": "ipython3",
   "version": "3.10.9"
  }
 },
 "nbformat": 4,
 "nbformat_minor": 2
}
